{
 "cells": [
  {
   "cell_type": "code",
   "execution_count": 16,
   "metadata": {},
   "outputs": [],
   "source": [
    "import pandas as pd\n",
    "from sklearn.model_selection import train_test_split\n",
    "from sklearn.preprocessing import StandardScaler"
   ]
  },
  {
   "cell_type": "code",
   "execution_count": 17,
   "metadata": {},
   "outputs": [
    {
     "data": {
      "text/plain": [
       "'/home/luz/Documents/Projet Integrateur/Projet-Integrateur---5SDBS/Dataset/Dataset Phising Website.csv'"
      ]
     },
     "execution_count": 17,
     "metadata": {},
     "output_type": "execute_result"
    }
   ],
   "source": [
    "import os\n",
    "notebook_path = os.path.abspath(\"data-training.ipynb\")\n",
    "dataset_path = os.path.join(os.path.dirname(notebook_path), \"Dataset/Dataset Phising Website.csv\")\n",
    "dataset_path"
   ]
  },
  {
   "cell_type": "code",
   "execution_count": 18,
   "metadata": {},
   "outputs": [],
   "source": [
    "try:\n",
    "    # Read dataset\n",
    "    df = pd.read_csv(dataset_path)\n",
    "except FileNotFoundError as e:\n",
    "    print(f\"Error : {e}\")"
   ]
  },
  {
   "cell_type": "code",
   "execution_count": 11,
   "metadata": {},
   "outputs": [
    {
     "name": "stdout",
     "output_type": "stream",
     "text": [
      "\n",
      "features :\n",
      "   index  having_IP_Address  URL_Length  Shortining_Service  having_At_Symbol  \\\n",
      "0      0                 -1           1                   1                 1   \n",
      "1      1                  1           1                   1                 1   \n",
      "2      2                  1           0                   1                 1   \n",
      "3      3                  1           0                   1                 1   \n",
      "4      4                  1           0                  -1                 1   \n",
      "\n",
      "   double_slash_redirecting  Prefix_Suffix  having_Sub_Domain  SSLfinal_State  \\\n",
      "0                        -1             -1                 -1              -1   \n",
      "1                         1             -1                  0               1   \n",
      "2                         1             -1                 -1              -1   \n",
      "3                         1             -1                 -1              -1   \n",
      "4                         1             -1                  1               1   \n",
      "\n",
      "   Domain_registeration_length  ...  popUpWidnow  Iframe  age_of_domain  \\\n",
      "0                           -1  ...            1       1             -1   \n",
      "1                           -1  ...            1       1             -1   \n",
      "2                           -1  ...            1       1              1   \n",
      "3                            1  ...            1       1             -1   \n",
      "4                           -1  ...           -1       1             -1   \n",
      "\n",
      "   DNSRecord  web_traffic  Page_Rank  Google_Index  Links_pointing_to_page  \\\n",
      "0         -1           -1         -1             1                       1   \n",
      "1         -1            0         -1             1                       1   \n",
      "2         -1            1         -1             1                       0   \n",
      "3         -1            1         -1             1                      -1   \n",
      "4         -1            0         -1             1                       1   \n",
      "\n",
      "   Statistical_report  Result  \n",
      "0                  -1      -1  \n",
      "1                   1      -1  \n",
      "2                  -1      -1  \n",
      "3                   1      -1  \n",
      "4                   1       1  \n",
      "\n",
      "[5 rows x 32 columns]\n"
     ]
    }
   ],
   "source": [
    "print(\"\\nfeatures :\")\n",
    "print(df.head())"
   ]
  },
  {
   "cell_type": "code",
   "execution_count": 12,
   "metadata": {},
   "outputs": [
    {
     "name": "stdout",
     "output_type": "stream",
     "text": [
      "<class 'pandas.core.frame.DataFrame'>\n",
      "RangeIndex: 22110 entries, 0 to 22109\n",
      "Data columns (total 32 columns):\n",
      " #   Column                       Non-Null Count  Dtype\n",
      "---  ------                       --------------  -----\n",
      " 0   index                        22110 non-null  int64\n",
      " 1   having_IP_Address            22110 non-null  int64\n",
      " 2   URL_Length                   22110 non-null  int64\n",
      " 3   Shortining_Service           22110 non-null  int64\n",
      " 4   having_At_Symbol             22110 non-null  int64\n",
      " 5   double_slash_redirecting     22110 non-null  int64\n",
      " 6   Prefix_Suffix                22110 non-null  int64\n",
      " 7   having_Sub_Domain            22110 non-null  int64\n",
      " 8   SSLfinal_State               22110 non-null  int64\n",
      " 9   Domain_registeration_length  22110 non-null  int64\n",
      " 10  Favicon                      22110 non-null  int64\n",
      " 11  port                         22110 non-null  int64\n",
      " 12  HTTPS_token                  22110 non-null  int64\n",
      " 13  Request_URL                  22110 non-null  int64\n",
      " 14  URL_of_Anchor                22110 non-null  int64\n",
      " 15  Links_in_tags                22110 non-null  int64\n",
      " 16  SFH                          22110 non-null  int64\n",
      " 17  Submitting_to_email          22110 non-null  int64\n",
      " 18  Abnormal_URL                 22110 non-null  int64\n",
      " 19  Redirect                     22110 non-null  int64\n",
      " 20  on_mouseover                 22110 non-null  int64\n",
      " 21  RightClick                   22110 non-null  int64\n",
      " 22  popUpWidnow                  22110 non-null  int64\n",
      " 23  Iframe                       22110 non-null  int64\n",
      " 24  age_of_domain                22110 non-null  int64\n",
      " 25  DNSRecord                    22110 non-null  int64\n",
      " 26  web_traffic                  22110 non-null  int64\n",
      " 27  Page_Rank                    22110 non-null  int64\n",
      " 28  Google_Index                 22110 non-null  int64\n",
      " 29  Links_pointing_to_page       22110 non-null  int64\n",
      " 30  Statistical_report           22110 non-null  int64\n",
      " 31  Result                       22110 non-null  int64\n",
      "dtypes: int64(32)\n",
      "memory usage: 5.4 MB\n"
     ]
    }
   ],
   "source": [
    "df.info()"
   ]
  },
  {
   "cell_type": "code",
   "execution_count": 13,
   "metadata": {},
   "outputs": [
    {
     "data": {
      "text/html": [
       "<div>\n",
       "<style scoped>\n",
       "    .dataframe tbody tr th:only-of-type {\n",
       "        vertical-align: middle;\n",
       "    }\n",
       "\n",
       "    .dataframe tbody tr th {\n",
       "        vertical-align: top;\n",
       "    }\n",
       "\n",
       "    .dataframe thead th {\n",
       "        text-align: right;\n",
       "    }\n",
       "</style>\n",
       "<table border=\"1\" class=\"dataframe\">\n",
       "  <thead>\n",
       "    <tr style=\"text-align: right;\">\n",
       "      <th></th>\n",
       "      <th>index</th>\n",
       "      <th>having_IP_Address</th>\n",
       "      <th>URL_Length</th>\n",
       "      <th>Shortining_Service</th>\n",
       "      <th>having_At_Symbol</th>\n",
       "      <th>double_slash_redirecting</th>\n",
       "      <th>Prefix_Suffix</th>\n",
       "      <th>having_Sub_Domain</th>\n",
       "      <th>SSLfinal_State</th>\n",
       "      <th>Domain_registeration_length</th>\n",
       "      <th>...</th>\n",
       "      <th>popUpWidnow</th>\n",
       "      <th>Iframe</th>\n",
       "      <th>age_of_domain</th>\n",
       "      <th>DNSRecord</th>\n",
       "      <th>web_traffic</th>\n",
       "      <th>Page_Rank</th>\n",
       "      <th>Google_Index</th>\n",
       "      <th>Links_pointing_to_page</th>\n",
       "      <th>Statistical_report</th>\n",
       "      <th>Result</th>\n",
       "    </tr>\n",
       "  </thead>\n",
       "  <tbody>\n",
       "    <tr>\n",
       "      <th>count</th>\n",
       "      <td>22110.000000</td>\n",
       "      <td>22110.000000</td>\n",
       "      <td>22110.000000</td>\n",
       "      <td>22110.000000</td>\n",
       "      <td>22110.000000</td>\n",
       "      <td>22110.000000</td>\n",
       "      <td>22110.000000</td>\n",
       "      <td>22110.000000</td>\n",
       "      <td>22110.000000</td>\n",
       "      <td>22110.000000</td>\n",
       "      <td>...</td>\n",
       "      <td>22110.000000</td>\n",
       "      <td>22110.000000</td>\n",
       "      <td>22110.000000</td>\n",
       "      <td>22110.000000</td>\n",
       "      <td>22110.000000</td>\n",
       "      <td>22110.000000</td>\n",
       "      <td>22110.000000</td>\n",
       "      <td>22110.000000</td>\n",
       "      <td>22110.000000</td>\n",
       "      <td>22110.000000</td>\n",
       "    </tr>\n",
       "    <tr>\n",
       "      <th>mean</th>\n",
       "      <td>11054.500000</td>\n",
       "      <td>0.313795</td>\n",
       "      <td>-0.633198</td>\n",
       "      <td>0.738761</td>\n",
       "      <td>0.700588</td>\n",
       "      <td>0.741474</td>\n",
       "      <td>-0.734962</td>\n",
       "      <td>0.063953</td>\n",
       "      <td>0.250927</td>\n",
       "      <td>-0.336771</td>\n",
       "      <td>...</td>\n",
       "      <td>0.613388</td>\n",
       "      <td>0.816915</td>\n",
       "      <td>0.061239</td>\n",
       "      <td>0.377114</td>\n",
       "      <td>0.287291</td>\n",
       "      <td>-0.483673</td>\n",
       "      <td>0.721574</td>\n",
       "      <td>0.344007</td>\n",
       "      <td>0.719584</td>\n",
       "      <td>0.113885</td>\n",
       "    </tr>\n",
       "    <tr>\n",
       "      <th>std</th>\n",
       "      <td>6382.751562</td>\n",
       "      <td>0.949512</td>\n",
       "      <td>0.766078</td>\n",
       "      <td>0.673983</td>\n",
       "      <td>0.713582</td>\n",
       "      <td>0.670996</td>\n",
       "      <td>0.678124</td>\n",
       "      <td>0.817500</td>\n",
       "      <td>0.911872</td>\n",
       "      <td>0.941608</td>\n",
       "      <td>...</td>\n",
       "      <td>0.789800</td>\n",
       "      <td>0.576771</td>\n",
       "      <td>0.998146</td>\n",
       "      <td>0.926188</td>\n",
       "      <td>0.827715</td>\n",
       "      <td>0.875269</td>\n",
       "      <td>0.692353</td>\n",
       "      <td>0.569931</td>\n",
       "      <td>0.694421</td>\n",
       "      <td>0.993516</td>\n",
       "    </tr>\n",
       "    <tr>\n",
       "      <th>min</th>\n",
       "      <td>0.000000</td>\n",
       "      <td>-1.000000</td>\n",
       "      <td>-1.000000</td>\n",
       "      <td>-1.000000</td>\n",
       "      <td>-1.000000</td>\n",
       "      <td>-1.000000</td>\n",
       "      <td>-1.000000</td>\n",
       "      <td>-1.000000</td>\n",
       "      <td>-1.000000</td>\n",
       "      <td>-1.000000</td>\n",
       "      <td>...</td>\n",
       "      <td>-1.000000</td>\n",
       "      <td>-1.000000</td>\n",
       "      <td>-1.000000</td>\n",
       "      <td>-1.000000</td>\n",
       "      <td>-1.000000</td>\n",
       "      <td>-1.000000</td>\n",
       "      <td>-1.000000</td>\n",
       "      <td>-1.000000</td>\n",
       "      <td>-1.000000</td>\n",
       "      <td>-1.000000</td>\n",
       "    </tr>\n",
       "    <tr>\n",
       "      <th>25%</th>\n",
       "      <td>5527.250000</td>\n",
       "      <td>-1.000000</td>\n",
       "      <td>-1.000000</td>\n",
       "      <td>1.000000</td>\n",
       "      <td>1.000000</td>\n",
       "      <td>1.000000</td>\n",
       "      <td>-1.000000</td>\n",
       "      <td>-1.000000</td>\n",
       "      <td>-1.000000</td>\n",
       "      <td>-1.000000</td>\n",
       "      <td>...</td>\n",
       "      <td>1.000000</td>\n",
       "      <td>1.000000</td>\n",
       "      <td>-1.000000</td>\n",
       "      <td>-1.000000</td>\n",
       "      <td>0.000000</td>\n",
       "      <td>-1.000000</td>\n",
       "      <td>1.000000</td>\n",
       "      <td>0.000000</td>\n",
       "      <td>1.000000</td>\n",
       "      <td>-1.000000</td>\n",
       "    </tr>\n",
       "    <tr>\n",
       "      <th>50%</th>\n",
       "      <td>11054.500000</td>\n",
       "      <td>1.000000</td>\n",
       "      <td>-1.000000</td>\n",
       "      <td>1.000000</td>\n",
       "      <td>1.000000</td>\n",
       "      <td>1.000000</td>\n",
       "      <td>-1.000000</td>\n",
       "      <td>0.000000</td>\n",
       "      <td>1.000000</td>\n",
       "      <td>-1.000000</td>\n",
       "      <td>...</td>\n",
       "      <td>1.000000</td>\n",
       "      <td>1.000000</td>\n",
       "      <td>1.000000</td>\n",
       "      <td>1.000000</td>\n",
       "      <td>1.000000</td>\n",
       "      <td>-1.000000</td>\n",
       "      <td>1.000000</td>\n",
       "      <td>0.000000</td>\n",
       "      <td>1.000000</td>\n",
       "      <td>1.000000</td>\n",
       "    </tr>\n",
       "    <tr>\n",
       "      <th>75%</th>\n",
       "      <td>16581.750000</td>\n",
       "      <td>1.000000</td>\n",
       "      <td>-1.000000</td>\n",
       "      <td>1.000000</td>\n",
       "      <td>1.000000</td>\n",
       "      <td>1.000000</td>\n",
       "      <td>-1.000000</td>\n",
       "      <td>1.000000</td>\n",
       "      <td>1.000000</td>\n",
       "      <td>1.000000</td>\n",
       "      <td>...</td>\n",
       "      <td>1.000000</td>\n",
       "      <td>1.000000</td>\n",
       "      <td>1.000000</td>\n",
       "      <td>1.000000</td>\n",
       "      <td>1.000000</td>\n",
       "      <td>1.000000</td>\n",
       "      <td>1.000000</td>\n",
       "      <td>1.000000</td>\n",
       "      <td>1.000000</td>\n",
       "      <td>1.000000</td>\n",
       "    </tr>\n",
       "    <tr>\n",
       "      <th>max</th>\n",
       "      <td>22109.000000</td>\n",
       "      <td>1.000000</td>\n",
       "      <td>1.000000</td>\n",
       "      <td>1.000000</td>\n",
       "      <td>1.000000</td>\n",
       "      <td>1.000000</td>\n",
       "      <td>1.000000</td>\n",
       "      <td>1.000000</td>\n",
       "      <td>1.000000</td>\n",
       "      <td>1.000000</td>\n",
       "      <td>...</td>\n",
       "      <td>1.000000</td>\n",
       "      <td>1.000000</td>\n",
       "      <td>1.000000</td>\n",
       "      <td>1.000000</td>\n",
       "      <td>1.000000</td>\n",
       "      <td>1.000000</td>\n",
       "      <td>1.000000</td>\n",
       "      <td>1.000000</td>\n",
       "      <td>1.000000</td>\n",
       "      <td>1.000000</td>\n",
       "    </tr>\n",
       "  </tbody>\n",
       "</table>\n",
       "<p>8 rows × 32 columns</p>\n",
       "</div>"
      ],
      "text/plain": [
       "              index  having_IP_Address    URL_Length  Shortining_Service  \\\n",
       "count  22110.000000       22110.000000  22110.000000        22110.000000   \n",
       "mean   11054.500000           0.313795     -0.633198            0.738761   \n",
       "std     6382.751562           0.949512      0.766078            0.673983   \n",
       "min        0.000000          -1.000000     -1.000000           -1.000000   \n",
       "25%     5527.250000          -1.000000     -1.000000            1.000000   \n",
       "50%    11054.500000           1.000000     -1.000000            1.000000   \n",
       "75%    16581.750000           1.000000     -1.000000            1.000000   \n",
       "max    22109.000000           1.000000      1.000000            1.000000   \n",
       "\n",
       "       having_At_Symbol  double_slash_redirecting  Prefix_Suffix  \\\n",
       "count      22110.000000              22110.000000   22110.000000   \n",
       "mean           0.700588                  0.741474      -0.734962   \n",
       "std            0.713582                  0.670996       0.678124   \n",
       "min           -1.000000                 -1.000000      -1.000000   \n",
       "25%            1.000000                  1.000000      -1.000000   \n",
       "50%            1.000000                  1.000000      -1.000000   \n",
       "75%            1.000000                  1.000000      -1.000000   \n",
       "max            1.000000                  1.000000       1.000000   \n",
       "\n",
       "       having_Sub_Domain  SSLfinal_State  Domain_registeration_length  ...  \\\n",
       "count       22110.000000    22110.000000                 22110.000000  ...   \n",
       "mean            0.063953        0.250927                    -0.336771  ...   \n",
       "std             0.817500        0.911872                     0.941608  ...   \n",
       "min            -1.000000       -1.000000                    -1.000000  ...   \n",
       "25%            -1.000000       -1.000000                    -1.000000  ...   \n",
       "50%             0.000000        1.000000                    -1.000000  ...   \n",
       "75%             1.000000        1.000000                     1.000000  ...   \n",
       "max             1.000000        1.000000                     1.000000  ...   \n",
       "\n",
       "        popUpWidnow        Iframe  age_of_domain     DNSRecord   web_traffic  \\\n",
       "count  22110.000000  22110.000000   22110.000000  22110.000000  22110.000000   \n",
       "mean       0.613388      0.816915       0.061239      0.377114      0.287291   \n",
       "std        0.789800      0.576771       0.998146      0.926188      0.827715   \n",
       "min       -1.000000     -1.000000      -1.000000     -1.000000     -1.000000   \n",
       "25%        1.000000      1.000000      -1.000000     -1.000000      0.000000   \n",
       "50%        1.000000      1.000000       1.000000      1.000000      1.000000   \n",
       "75%        1.000000      1.000000       1.000000      1.000000      1.000000   \n",
       "max        1.000000      1.000000       1.000000      1.000000      1.000000   \n",
       "\n",
       "          Page_Rank  Google_Index  Links_pointing_to_page  Statistical_report  \\\n",
       "count  22110.000000  22110.000000            22110.000000        22110.000000   \n",
       "mean      -0.483673      0.721574                0.344007            0.719584   \n",
       "std        0.875269      0.692353                0.569931            0.694421   \n",
       "min       -1.000000     -1.000000               -1.000000           -1.000000   \n",
       "25%       -1.000000      1.000000                0.000000            1.000000   \n",
       "50%       -1.000000      1.000000                0.000000            1.000000   \n",
       "75%        1.000000      1.000000                1.000000            1.000000   \n",
       "max        1.000000      1.000000                1.000000            1.000000   \n",
       "\n",
       "             Result  \n",
       "count  22110.000000  \n",
       "mean       0.113885  \n",
       "std        0.993516  \n",
       "min       -1.000000  \n",
       "25%       -1.000000  \n",
       "50%        1.000000  \n",
       "75%        1.000000  \n",
       "max        1.000000  \n",
       "\n",
       "[8 rows x 32 columns]"
      ]
     },
     "execution_count": 13,
     "metadata": {},
     "output_type": "execute_result"
    }
   ],
   "source": [
    "df.describe()"
   ]
  },
  {
   "cell_type": "code",
   "execution_count": 14,
   "metadata": {},
   "outputs": [
    {
     "data": {
      "text/plain": [
       "index                          0\n",
       "having_IP_Address              0\n",
       "URL_Length                     0\n",
       "Shortining_Service             0\n",
       "having_At_Symbol               0\n",
       "double_slash_redirecting       0\n",
       "Prefix_Suffix                  0\n",
       "having_Sub_Domain              0\n",
       "SSLfinal_State                 0\n",
       "Domain_registeration_length    0\n",
       "Favicon                        0\n",
       "port                           0\n",
       "HTTPS_token                    0\n",
       "Request_URL                    0\n",
       "URL_of_Anchor                  0\n",
       "Links_in_tags                  0\n",
       "SFH                            0\n",
       "Submitting_to_email            0\n",
       "Abnormal_URL                   0\n",
       "Redirect                       0\n",
       "on_mouseover                   0\n",
       "RightClick                     0\n",
       "popUpWidnow                    0\n",
       "Iframe                         0\n",
       "age_of_domain                  0\n",
       "DNSRecord                      0\n",
       "web_traffic                    0\n",
       "Page_Rank                      0\n",
       "Google_Index                   0\n",
       "Links_pointing_to_page         0\n",
       "Statistical_report             0\n",
       "Result                         0\n",
       "dtype: int64"
      ]
     },
     "execution_count": 14,
     "metadata": {},
     "output_type": "execute_result"
    }
   ],
   "source": [
    "df.isnull().sum()"
   ]
  },
  {
   "cell_type": "code",
   "execution_count": 21,
   "metadata": {},
   "outputs": [],
   "source": [
    "# Split dataset in train and test\n",
    "X = df.iloc[:,1:31]  # Features\n",
    "y = df.iloc[:, 31]  # Cible (labels)\n",
    "\n",
    "# Diviser en ensembles d'entraînement et de test\n",
    "X_train, X_test, y_train, y_test = train_test_split(\n",
    "    X, y, test_size=0.2, random_state=42, shuffle=True\n",
    ")"
   ]
  },
  {
   "cell_type": "code",
   "execution_count": 22,
   "metadata": {},
   "outputs": [],
   "source": [
    "from sklearn.ensemble import RandomForestClassifier, AdaBoostClassifier, GradientBoostingClassifier\n",
    "models = {\n",
    "    'RandomForest': RandomForestClassifier(),\n",
    "    'AdaBoost': AdaBoostClassifier(algorithm=\"SAMME\"),\n",
    "    'GradientBoosting': GradientBoostingClassifier()\n",
    "}"
   ]
  },
  {
   "cell_type": "code",
   "execution_count": 23,
   "metadata": {},
   "outputs": [
    {
     "name": "stdout",
     "output_type": "stream",
     "text": [
      "RandomForest - Accuracy: 0.9828\n",
      "AdaBoost - Accuracy: 0.9313\n",
      "GradientBoosting - Accuracy: 0.9504\n"
     ]
    }
   ],
   "source": [
    "from sklearn.model_selection import cross_val_score, GridSearchCV\n",
    "import numpy as np\n",
    "\n",
    "for name, model in models.items():\n",
    "    scores = cross_val_score(model, X_train, y_train, cv=5)\n",
    "    print(f'{name} - Accuracy: {np.mean(scores):.4f}')\n"
   ]
  },
  {
   "cell_type": "code",
   "execution_count": 24,
   "metadata": {},
   "outputs": [
    {
     "name": "stdout",
     "output_type": "stream",
     "text": [
      "\n",
      "RandomForest - Classification Report:\n",
      "              precision    recall  f1-score   support\n",
      "\n",
      "          -1       0.98      0.98      0.98      1964\n",
      "           1       0.98      0.99      0.99      2458\n",
      "\n",
      "    accuracy                           0.98      4422\n",
      "   macro avg       0.98      0.98      0.98      4422\n",
      "weighted avg       0.98      0.98      0.98      4422\n",
      "\n",
      "RandomForest - Confusion Matrix:\n",
      "[[1925   39]\n",
      " [  32 2426]]\n",
      "\n",
      "AdaBoost - Classification Report:\n",
      "              precision    recall  f1-score   support\n",
      "\n",
      "          -1       0.93      0.91      0.92      1964\n",
      "           1       0.93      0.94      0.94      2458\n",
      "\n",
      "    accuracy                           0.93      4422\n",
      "   macro avg       0.93      0.93      0.93      4422\n",
      "weighted avg       0.93      0.93      0.93      4422\n",
      "\n",
      "AdaBoost - Confusion Matrix:\n",
      "[[1784  180]\n",
      " [ 140 2318]]\n",
      "\n",
      "GradientBoosting - Classification Report:\n",
      "              precision    recall  f1-score   support\n",
      "\n",
      "          -1       0.95      0.93      0.94      1964\n",
      "           1       0.95      0.96      0.95      2458\n",
      "\n",
      "    accuracy                           0.95      4422\n",
      "   macro avg       0.95      0.95      0.95      4422\n",
      "weighted avg       0.95      0.95      0.95      4422\n",
      "\n",
      "GradientBoosting - Confusion Matrix:\n",
      "[[1829  135]\n",
      " [  99 2359]]\n"
     ]
    }
   ],
   "source": [
    "from sklearn.metrics import classification_report, confusion_matrix\n",
    "\n",
    "# Generating classification_report, confusion_matrix\n",
    "for name, model in models.items():\n",
    "    # Training Model\n",
    "    model.fit(X_train, y_train)\n",
    "    \n",
    "    # Predict Test Set\n",
    "    y_pred = model.predict(X_test)\n",
    "    \n",
    "    # Printing classification_report\n",
    "    print(f'\\n{name} - Classification Report:')\n",
    "    print(classification_report(y_test, y_pred))\n",
    "    \n",
    "    # Printing confusion_matrix\n",
    "    print(f'{name} - Confusion Matrix:')\n",
    "    print(confusion_matrix(y_test, y_pred))\n"
   ]
  },
  {
   "cell_type": "markdown",
   "metadata": {},
   "source": [
    "## Training model with just Address Bar based features"
   ]
  },
  {
   "cell_type": "markdown",
   "metadata": {},
   "source": [
    "The paper that comes with the dataset being used specifies 4 different types of features. The first type is Address Bar based features. Since those are the features more easily obtained from a website, we'll train the model just with them to see if those are sufficient. Then we'll do the same with the other type of features in order to optimize our future extension, less features implies less time of data collecting and processing."
   ]
  },
  {
   "cell_type": "code",
   "execution_count": 25,
   "metadata": {},
   "outputs": [],
   "source": [
    "# Split dataset in train and test\n",
    "X = df.iloc[:,1:13]  # Address Bar based features\n",
    "y = df.iloc[:, 31]  # labels\n",
    "\n",
    "# train and test split\n",
    "X_train, X_test, y_train, y_test = train_test_split(\n",
    "    X, y, test_size=0.2, random_state=42, shuffle=True\n",
    ")"
   ]
  },
  {
   "cell_type": "code",
   "execution_count": 26,
   "metadata": {},
   "outputs": [
    {
     "name": "stdout",
     "output_type": "stream",
     "text": [
      "RandomForest - Accuracy: 0.9123\n",
      "AdaBoost - Accuracy: 0.8989\n",
      "GradientBoosting - Accuracy: 0.9020\n"
     ]
    }
   ],
   "source": [
    "from sklearn.model_selection import cross_val_score, GridSearchCV\n",
    "import numpy as np\n",
    "\n",
    "for name, model in models.items():\n",
    "    scores = cross_val_score(model, X_train, y_train, cv=5)\n",
    "    print(f'{name} - Accuracy: {np.mean(scores):.4f}')"
   ]
  },
  {
   "cell_type": "markdown",
   "metadata": {},
   "source": [
    "## Training model with Abnormal based features and HTML/Javascript based features"
   ]
  },
  {
   "cell_type": "code",
   "execution_count": 34,
   "metadata": {},
   "outputs": [],
   "source": [
    "# Split dataset in train and test\n",
    "X = df.iloc[:,13:24]  # Address Bar based features\n",
    "y = df.iloc[:, 31]  # labels\n",
    "\n",
    "# train and test split\n",
    "X_train, X_test, y_train, y_test = train_test_split(\n",
    "    X, y, test_size=0.2, random_state=42, shuffle=True\n",
    ")"
   ]
  },
  {
   "cell_type": "code",
   "execution_count": 28,
   "metadata": {
    "scrolled": true
   },
   "outputs": [
    {
     "name": "stdout",
     "output_type": "stream",
     "text": [
      "RandomForest - Accuracy: 0.8813\n",
      "AdaBoost - Accuracy: 0.8696\n",
      "GradientBoosting - Accuracy: 0.8750\n"
     ]
    }
   ],
   "source": [
    "from sklearn.model_selection import cross_val_score, GridSearchCV\n",
    "import numpy as np\n",
    "\n",
    "for name, model in models.items():\n",
    "    scores = cross_val_score(model, X_train, y_train, cv=5)\n",
    "    print(f'{name} - Accuracy: {np.mean(scores):.4f}')"
   ]
  },
  {
   "cell_type": "markdown",
   "metadata": {},
   "source": [
    "## Training model with Domain based features"
   ]
  },
  {
   "cell_type": "code",
   "execution_count": 54,
   "metadata": {},
   "outputs": [],
   "source": [
    "X = df.iloc[:,24:31]  # Address Bar based features\n",
    "y = df.iloc[:, 31]  # labels\n",
    "\n",
    "# train and test split\n",
    "X_train, X_test, y_train, y_test = train_test_split(\n",
    "    X, y, test_size=0.2, random_state=42, shuffle=True\n",
    ")"
   ]
  },
  {
   "cell_type": "code",
   "execution_count": 55,
   "metadata": {},
   "outputs": [
    {
     "name": "stdout",
     "output_type": "stream",
     "text": [
      "RandomForest - Accuracy: 0.7478\n",
      "AdaBoost - Accuracy: 0.7071\n",
      "GradientBoosting - Accuracy: 0.7358\n"
     ]
    }
   ],
   "source": [
    "from sklearn.model_selection import cross_val_score, GridSearchCV\n",
    "import numpy as np\n",
    "\n",
    "for name, model in models.items():\n",
    "    scores = cross_val_score(model, X_train, y_train, cv=5)\n",
    "    print(f'{name} - Accuracy: {np.mean(scores):.4f}')"
   ]
  },
  {
   "cell_type": "code",
   "execution_count": 59,
   "metadata": {},
   "outputs": [],
   "source": [
    "columns_1_to_12 = df.iloc[:, 1:13]\n",
    "\n",
    "# Selecciona las columnas de la 22 a la 30\n",
    "columns_22_to_30 = df.iloc[:, 22:31]\n",
    "\n",
    "# Combina ambas selecciones en un único DataFrame\n",
    "selected_columns = pd.concat([columns_1_to_12, columns_22_to_30], axis=1)\n",
    "\n",
    "X = selected_columns  # Address Bar based features\n",
    "y = df.iloc[:, 31]  # labels\n",
    "\n",
    "# train and test split\n",
    "X_train, X_test, y_train, y_test = train_test_split(\n",
    "    X, y, test_size=0.2, random_state=42, shuffle=True\n",
    ")\n"
   ]
  },
  {
   "cell_type": "code",
   "execution_count": 60,
   "metadata": {},
   "outputs": [
    {
     "name": "stdout",
     "output_type": "stream",
     "text": [
      "RandomForest - Accuracy: 0.9581\n",
      "AdaBoost - Accuracy: 0.9051\n",
      "GradientBoosting - Accuracy: 0.9220\n"
     ]
    }
   ],
   "source": [
    "from sklearn.model_selection import cross_val_score, GridSearchCV\n",
    "import numpy as np\n",
    "\n",
    "for name, model in models.items():\n",
    "    scores = cross_val_score(model, X_train, y_train, cv=5)\n",
    "    print(f'{name} - Accuracy: {np.mean(scores):.4f}')"
   ]
  },
  {
   "cell_type": "code",
   "execution_count": 63,
   "metadata": {},
   "outputs": [],
   "source": [
    "columns_1_to_12 = df.iloc[:, 1:13]\n",
    "\n",
    "# Selecciona las columnas de la 13 a la 22\n",
    "columns_13_to_22 = df.iloc[:, 13:23]\n",
    "\n",
    "# Combina ambas selecciones en un único DataFrame\n",
    "selected_columns = pd.concat([columns_1_to_12, columns_13_to_22], axis=1)\n",
    "\n",
    "X = selected_columns  # Address Bar based features\n",
    "y = df.iloc[:, 31]  # labels\n",
    "\n",
    "# train and test split\n",
    "X_train, X_test, y_train, y_test = train_test_split(\n",
    "    X, y, test_size=0.2, random_state=42, shuffle=True\n",
    ")"
   ]
  },
  {
   "cell_type": "code",
   "execution_count": 64,
   "metadata": {},
   "outputs": [
    {
     "name": "stdout",
     "output_type": "stream",
     "text": [
      "RandomForest - Accuracy: 0.9580\n",
      "AdaBoost - Accuracy: 0.9258\n",
      "GradientBoosting - Accuracy: 0.9374\n"
     ]
    }
   ],
   "source": [
    "from sklearn.model_selection import cross_val_score, GridSearchCV\n",
    "import numpy as np\n",
    "\n",
    "for name, model in models.items():\n",
    "    scores = cross_val_score(model, X_train, y_train, cv=5)\n",
    "    print(f'{name} - Accuracy: {np.mean(scores):.4f}')"
   ]
  },
  {
   "cell_type": "code",
   "execution_count": 65,
   "metadata": {},
   "outputs": [],
   "source": [
    "columns_13_to_22 = df.iloc[:, 13:23]\n",
    "\n",
    "# Selecciona las columnas de la 13 a la 22\n",
    "columns_23_to_30 = df.iloc[:, 23:31]\n",
    "\n",
    "# Combina ambas selecciones en un único DataFrame\n",
    "selected_columns = pd.concat([columns_13_to_22, columns_23_to_30], axis=1)\n",
    "\n",
    "X = selected_columns  # Address Bar based features\n",
    "y = df.iloc[:, 31]  # labels\n",
    "\n",
    "# train and test split\n",
    "X_train, X_test, y_train, y_test = train_test_split(\n",
    "    X, y, test_size=0.2, random_state=42, shuffle=True\n",
    ")"
   ]
  },
  {
   "cell_type": "code",
   "execution_count": 66,
   "metadata": {},
   "outputs": [
    {
     "name": "stdout",
     "output_type": "stream",
     "text": [
      "RandomForest - Accuracy: 0.9388\n",
      "AdaBoost - Accuracy: 0.8802\n",
      "GradientBoosting - Accuracy: 0.9004\n"
     ]
    }
   ],
   "source": [
    "from sklearn.model_selection import cross_val_score, GridSearchCV\n",
    "import numpy as np\n",
    "\n",
    "for name, model in models.items():\n",
    "    scores = cross_val_score(model, X_train, y_train, cv=5)\n",
    "    print(f'{name} - Accuracy: {np.mean(scores):.4f}')"
   ]
  }
 ],
 "metadata": {
  "kernelspec": {
   "display_name": "Python 3 (ipykernel)",
   "language": "python",
   "name": "python3"
  },
  "language_info": {
   "codemirror_mode": {
    "name": "ipython",
    "version": 3
   },
   "file_extension": ".py",
   "mimetype": "text/x-python",
   "name": "python",
   "nbconvert_exporter": "python",
   "pygments_lexer": "ipython3",
   "version": "3.10.12"
  }
 },
 "nbformat": 4,
 "nbformat_minor": 4
}
